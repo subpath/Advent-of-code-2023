{
 "cells": [
  {
   "cell_type": "markdown",
   "id": "413e5a46-c112-46dd-8ef1-89e2f6e8aa72",
   "metadata": {},
   "source": [
    "## --- Day 2: Cube Conundrum ---\n",
    "You're launched high into the atmosphere! The apex of your trajectory just barely reaches the surface of a large island floating in the sky. You gently land in a fluffy pile of leaves. It's quite cold, but you don't see much snow. An Elf runs over to greet you.\n",
    "\n",
    "The Elf explains that you've arrived at Snow Island and apologizes for the lack of snow. He'll be happy to explain the situation, but it's a bit of a walk, so you have some time. They don't get many visitors up here; would you like to play a game in the meantime?\n",
    "\n",
    "As you walk, the Elf shows you a small bag and some cubes which are either red, green, or blue. Each time you play this game, he will hide a secret number of cubes of each color in the bag, and your goal is to figure out information about the number of cubes.\n",
    "\n",
    "To get information, once a bag has been loaded with cubes, the Elf will reach into the bag, grab a handful of random cubes, show them to you, and then put them back in the bag. He'll do this a few times per game.\n",
    "\n",
    "You play several games and record the information from each game (your puzzle input). Each game is listed with its ID number (like the 11 in Game 11: ...) followed by a semicolon-separated list of subsets of cubes that were revealed from the bag (like 3 red, 5 green, 4 blue).\n",
    "\n",
    "For example, the record of a few games might look like this:\n",
    "```\n",
    "Game 1: 3 blue, 4 red; 1 red, 2 green, 6 blue; 2 green\n",
    "Game 2: 1 blue, 2 green; 3 green, 4 blue, 1 red; 1 green, 1 blue\n",
    "Game 3: 8 green, 6 blue, 20 red; 5 blue, 4 red, 13 green; 5 green, 1 red\n",
    "Game 4: 1 green, 3 red, 6 blue; 3 green, 6 red; 3 green, 15 blue, 14 red\n",
    "Game 5: 6 red, 1 blue, 3 green; 2 blue, 1 red, 2 green\n",
    "```\n",
    "In game 1, three sets of cubes are revealed from the bag (and then put back again). The first set is 3 blue cubes and 4 red cubes; the second set is 1 red cube, 2 green cubes, and 6 blue cubes; the third set is only 2 green cubes.\n",
    "\n",
    "The Elf would first like to know which games would have been possible if the bag contained only 12 red cubes, 13 green cubes, and 14 blue cubes?\n",
    "\n",
    "In the example above, games 1, 2, and 5 would have been possible if the bag had been loaded with that configuration. However, game 3 would have been impossible because at one point the Elf showed you 20 red cubes at once; similarly, game 4 would also have been impossible because the Elf showed you 15 blue cubes at once. If you add up the IDs of the games that would have been possible, you get 8.\n",
    "\n",
    "Determine which games would have been possible if the bag had been loaded with only 12 red cubes, 13 green cubes, and 14 blue cubes. What is the sum of the IDs of those games?"
   ]
  },
  {
   "cell_type": "code",
   "execution_count": 1,
   "id": "a42253a1-9946-4985-97f8-534ae446d15d",
   "metadata": {
    "execution": {
     "iopub.execute_input": "2023-12-02T19:37:38.168938Z",
     "iopub.status.busy": "2023-12-02T19:37:38.168288Z",
     "iopub.status.idle": "2023-12-02T19:37:38.181154Z",
     "shell.execute_reply": "2023-12-02T19:37:38.179531Z",
     "shell.execute_reply.started": "2023-12-02T19:37:38.168787Z"
    },
    "tags": []
   },
   "outputs": [],
   "source": [
    "from typing import Dict, List"
   ]
  },
  {
   "cell_type": "code",
   "execution_count": 2,
   "id": "016cbd0b-3282-41c6-90e9-e48841e250b4",
   "metadata": {
    "execution": {
     "iopub.execute_input": "2023-12-02T19:37:38.644226Z",
     "iopub.status.busy": "2023-12-02T19:37:38.643651Z",
     "iopub.status.idle": "2023-12-02T19:37:38.650996Z",
     "shell.execute_reply": "2023-12-02T19:37:38.649192Z",
     "shell.execute_reply.started": "2023-12-02T19:37:38.644180Z"
    },
    "tags": []
   },
   "outputs": [],
   "source": [
    "with open(\"data/day_2_1.csv\", \"r\") as f:\n",
    "    games = f.read().split(\"\\n\")"
   ]
  },
  {
   "cell_type": "code",
   "execution_count": 3,
   "id": "1cf8548c-7877-483b-862f-29df7fe8163b",
   "metadata": {
    "execution": {
     "iopub.execute_input": "2023-12-02T19:37:39.679048Z",
     "iopub.status.busy": "2023-12-02T19:37:39.678672Z",
     "iopub.status.idle": "2023-12-02T19:37:39.684729Z",
     "shell.execute_reply": "2023-12-02T19:37:39.683274Z",
     "shell.execute_reply.started": "2023-12-02T19:37:39.679014Z"
    },
    "tags": []
   },
   "outputs": [],
   "source": [
    "RULES: Dict[str, int] = {\"red\": 12, \"green\": 13, \"blue\": 14}"
   ]
  },
  {
   "cell_type": "code",
   "execution_count": 4,
   "id": "8dde23d7-f6ff-419b-8f6d-793c47543136",
   "metadata": {
    "execution": {
     "iopub.execute_input": "2023-12-02T19:37:40.017760Z",
     "iopub.status.busy": "2023-12-02T19:37:40.017127Z",
     "iopub.status.idle": "2023-12-02T19:37:40.023352Z",
     "shell.execute_reply": "2023-12-02T19:37:40.022447Z",
     "shell.execute_reply.started": "2023-12-02T19:37:40.017726Z"
    },
    "tags": []
   },
   "outputs": [],
   "source": [
    "def parse_sets(games: List[str]) -> List[List[List[str]]]:\n",
    "    sets = []\n",
    "    for game in [game.split(\": \")[1].strip().split(\";\") for game in games]:\n",
    "        parsed_set = [set_.strip().split(\", \") for set_ in game]\n",
    "        sets.append(parsed_set)\n",
    "    return sets"
   ]
  },
  {
   "cell_type": "code",
   "execution_count": 31,
   "id": "98f79d39-ab0e-45d8-803a-51bf4a2450db",
   "metadata": {
    "execution": {
     "iopub.execute_input": "2023-12-02T19:43:46.955360Z",
     "iopub.status.busy": "2023-12-02T19:43:46.955054Z",
     "iopub.status.idle": "2023-12-02T19:43:46.963279Z",
     "shell.execute_reply": "2023-12-02T19:43:46.959965Z",
     "shell.execute_reply.started": "2023-12-02T19:43:46.955333Z"
    },
    "tags": []
   },
   "outputs": [],
   "source": [
    "def check_for_possible_games(sets: List[List[List[str]]]) -> Dict[str, int]:\n",
    "    possible_games = {}\n",
    "    for idx, game in enumerate(sets):\n",
    "        possible_games[idx + 1] = 0\n",
    "        for set_ in game:\n",
    "            for cube in set_:\n",
    "                color = cube.split(\" \")[1]\n",
    "                max_allowed = RULES[color]\n",
    "                actual = int(cube.split(\" \")[0])\n",
    "                if actual > max_allowed:\n",
    "                    possible_games[idx + 1] -= 999\n",
    "    return possible_games"
   ]
  },
  {
   "cell_type": "code",
   "execution_count": 32,
   "id": "23bbeb1b-e727-416c-b407-885d94349d9e",
   "metadata": {
    "execution": {
     "iopub.execute_input": "2023-12-02T19:43:48.666154Z",
     "iopub.status.busy": "2023-12-02T19:43:48.665745Z",
     "iopub.status.idle": "2023-12-02T19:43:48.671266Z",
     "shell.execute_reply": "2023-12-02T19:43:48.670081Z",
     "shell.execute_reply.started": "2023-12-02T19:43:48.666122Z"
    },
    "tags": []
   },
   "outputs": [],
   "source": [
    "def get_possible_games_ids(possible_games: Dict[str, int]) -> int:\n",
    "    return [k for k in possible_games.keys() if possible_games[k] == 0]"
   ]
  },
  {
   "cell_type": "code",
   "execution_count": 33,
   "id": "7b466b13-b661-4c33-a3cb-439cb991c21e",
   "metadata": {
    "execution": {
     "iopub.execute_input": "2023-12-02T19:43:49.055980Z",
     "iopub.status.busy": "2023-12-02T19:43:49.055208Z",
     "iopub.status.idle": "2023-12-02T19:43:49.062676Z",
     "shell.execute_reply": "2023-12-02T19:43:49.061803Z",
     "shell.execute_reply.started": "2023-12-02T19:43:49.055894Z"
    },
    "tags": []
   },
   "outputs": [],
   "source": [
    "sets = parse_sets(games)\n",
    "possible_games = check_for_possible_games(sets)"
   ]
  },
  {
   "cell_type": "code",
   "execution_count": 34,
   "id": "65d549ff-0dfb-401c-9fa2-fc2f5f60668e",
   "metadata": {
    "execution": {
     "iopub.execute_input": "2023-12-02T19:43:49.398059Z",
     "iopub.status.busy": "2023-12-02T19:43:49.397739Z",
     "iopub.status.idle": "2023-12-02T19:43:49.403324Z",
     "shell.execute_reply": "2023-12-02T19:43:49.402558Z",
     "shell.execute_reply.started": "2023-12-02T19:43:49.398035Z"
    },
    "tags": []
   },
   "outputs": [
    {
     "data": {
      "text/plain": [
       "2449"
      ]
     },
     "execution_count": 34,
     "metadata": {},
     "output_type": "execute_result"
    }
   ],
   "source": [
    "assert sum(get_possible_games_ids(possible_games)) == 2449"
   ]
  },
  {
   "cell_type": "markdown",
   "id": "09aa8ba6-4639-42fd-a5c4-439d18600e5a",
   "metadata": {},
   "source": [
    "## tests"
   ]
  },
  {
   "cell_type": "code",
   "execution_count": 19,
   "id": "f0c057c2-711e-4408-a113-52db5b207605",
   "metadata": {
    "execution": {
     "iopub.execute_input": "2023-12-02T19:40:12.802632Z",
     "iopub.status.busy": "2023-12-02T19:40:12.802094Z",
     "iopub.status.idle": "2023-12-02T19:40:12.808773Z",
     "shell.execute_reply": "2023-12-02T19:40:12.807563Z",
     "shell.execute_reply.started": "2023-12-02T19:40:12.802553Z"
    },
    "tags": []
   },
   "outputs": [],
   "source": [
    "test_games = [\n",
    "    \"Game 1: 3 blue, 4 red; 1 red, 2 green, 6 blue; 2 green\",\n",
    "    \"Game 2: 1 blue, 2 green; 3 green, 4 blue, 1 red; 1 green, 1 blue\",\n",
    "    \"Game 3: 8 green, 6 blue, 20 red; 5 blue, 4 red, 13 green; 5 green, 1 red\",\n",
    "    \"Game 4: 1 green, 3 red, 6 blue; 3 green, 6 red; 3 green, 15 blue, 14 red\",\n",
    "    \"Game 5: 6 red, 1 blue, 3 green; 2 blue, 1 red, 2 green\",\n",
    "]"
   ]
  },
  {
   "cell_type": "code",
   "execution_count": 20,
   "id": "2d902344-e941-48d5-9b7c-4eb8281ed1bd",
   "metadata": {
    "execution": {
     "iopub.execute_input": "2023-12-02T19:40:13.037896Z",
     "iopub.status.busy": "2023-12-02T19:40:13.031954Z",
     "iopub.status.idle": "2023-12-02T19:40:13.048210Z",
     "shell.execute_reply": "2023-12-02T19:40:13.047423Z",
     "shell.execute_reply.started": "2023-12-02T19:40:13.037836Z"
    },
    "tags": []
   },
   "outputs": [],
   "source": [
    "test_sets = parse_sets(test_games)"
   ]
  },
  {
   "cell_type": "code",
   "execution_count": 21,
   "id": "4963fdbf-ec3e-42b2-b9e3-e711471caa2e",
   "metadata": {
    "execution": {
     "iopub.execute_input": "2023-12-02T19:40:13.203906Z",
     "iopub.status.busy": "2023-12-02T19:40:13.203251Z",
     "iopub.status.idle": "2023-12-02T19:40:13.211445Z",
     "shell.execute_reply": "2023-12-02T19:40:13.210099Z",
     "shell.execute_reply.started": "2023-12-02T19:40:13.203871Z"
    },
    "tags": []
   },
   "outputs": [
    {
     "data": {
      "text/plain": [
       "{1: 0, 2: 0, 3: -1998, 4: -1998, 5: 0}"
      ]
     },
     "execution_count": 21,
     "metadata": {},
     "output_type": "execute_result"
    }
   ],
   "source": [
    "check_for_possible_games(test_sets)"
   ]
  },
  {
   "cell_type": "code",
   "execution_count": 22,
   "id": "3f82c9c1-e153-4279-ae13-56d92466a714",
   "metadata": {
    "execution": {
     "iopub.execute_input": "2023-12-02T19:40:13.419797Z",
     "iopub.status.busy": "2023-12-02T19:40:13.419247Z",
     "iopub.status.idle": "2023-12-02T19:40:13.425108Z",
     "shell.execute_reply": "2023-12-02T19:40:13.423330Z",
     "shell.execute_reply.started": "2023-12-02T19:40:13.419760Z"
    },
    "tags": []
   },
   "outputs": [],
   "source": [
    "assert sum(get_possible_games_ids(check_for_possible_games(test_sets))) == 8"
   ]
  }
 ],
 "metadata": {
  "kernelspec": {
   "display_name": "Python 3 (ipykernel)",
   "language": "python",
   "name": "python3"
  },
  "language_info": {
   "codemirror_mode": {
    "name": "ipython",
    "version": 3
   },
   "file_extension": ".py",
   "mimetype": "text/x-python",
   "name": "python",
   "nbconvert_exporter": "python",
   "pygments_lexer": "ipython3",
   "version": "3.8.10"
  }
 },
 "nbformat": 4,
 "nbformat_minor": 5
}
