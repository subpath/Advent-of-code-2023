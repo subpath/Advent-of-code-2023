{
 "cells": [
  {
   "cell_type": "markdown",
   "id": "413e5a46-c112-46dd-8ef1-89e2f6e8aa72",
   "metadata": {},
   "source": [
    "## --- Day 1: Trebuchet?! ---\n",
    "\n",
    "Something is wrong with global snow production, and you've been selected to take a look. The Elves have even given you a map; on it, they've used stars to mark the top fifty locations that are likely to be having problems.\n",
    "\n",
    "You've been doing this long enough to know that to restore snow operations, you need to check all fifty stars by December 25th.\n",
    "\n",
    "Collect stars by solving puzzles. Two puzzles will be made available on each day in the Advent calendar; the second puzzle is unlocked when you complete the first. Each puzzle grants one star. Good luck!\n",
    "\n",
    "You try to ask why they can't just use a weather machine (\"not powerful enough\") and where they're even sending you (\"the sky\") and why your map looks mostly blank (\"you sure ask a lot of questions\") and hang on did you just say the sky (\"of course, where do you think snow comes from\") when you realize that the Elves are already loading you into a trebuchet (\"please hold still, we need to strap you in\").\n",
    "\n",
    "As they're making the final adjustments, they discover that their calibration document (your puzzle input) has been amended by a very young Elf who was apparently just excited to show off her art skills. Consequently, the Elves are having trouble reading the values on the document.\n",
    "\n",
    "The newly-improved calibration document consists of lines of text; each line originally contained a specific calibration value that the Elves now need to recover. On each line, the calibration value can be found by combining the first digit and the last digit (in that order) to form a single two-digit number.\n",
    "\n",
    "For example:\n",
    "```\n",
    "1abc2\n",
    "pqr3stu8vwx\n",
    "a1b2c3d4e5f\n",
    "treb7uchet\n",
    "```\n",
    "In this example, the calibration values of these four lines are 12, 38, 15, and 77. Adding these together produces 142.\n",
    "\n",
    "Consider your entire calibration document. What is the sum of all of the calibration values?\n",
    "\n"
   ]
  },
  {
   "cell_type": "code",
   "execution_count": 1,
   "id": "f1d3e7e0-0c84-4284-b79a-170559d44f26",
   "metadata": {
    "execution": {
     "iopub.execute_input": "2023-12-02T08:57:47.437982Z",
     "iopub.status.busy": "2023-12-02T08:57:47.437390Z",
     "iopub.status.idle": "2023-12-02T08:57:47.455475Z",
     "shell.execute_reply": "2023-12-02T08:57:47.454208Z",
     "shell.execute_reply.started": "2023-12-02T08:57:47.437867Z"
    },
    "tags": []
   },
   "outputs": [],
   "source": [
    "import re"
   ]
  },
  {
   "cell_type": "code",
   "execution_count": 3,
   "id": "016cbd0b-3282-41c6-90e9-e48841e250b4",
   "metadata": {
    "execution": {
     "iopub.execute_input": "2023-12-02T08:57:51.799636Z",
     "iopub.status.busy": "2023-12-02T08:57:51.799001Z",
     "iopub.status.idle": "2023-12-02T08:57:51.807105Z",
     "shell.execute_reply": "2023-12-02T08:57:51.805155Z",
     "shell.execute_reply.started": "2023-12-02T08:57:51.799584Z"
    },
    "tags": []
   },
   "outputs": [],
   "source": [
    "with open(\"data/day_1_1.csv\", \"r\") as f:\n",
    "    codes = f.read().split(\"\\n\")[:-1]"
   ]
  },
  {
   "cell_type": "code",
   "execution_count": 4,
   "id": "fa15b21a-78a7-4ab5-b010-789d82f5d33d",
   "metadata": {
    "execution": {
     "iopub.execute_input": "2023-12-02T08:57:53.164805Z",
     "iopub.status.busy": "2023-12-02T08:57:53.164115Z",
     "iopub.status.idle": "2023-12-02T08:57:53.175601Z",
     "shell.execute_reply": "2023-12-02T08:57:53.174331Z",
     "shell.execute_reply.started": "2023-12-02T08:57:53.164757Z"
    },
    "tags": []
   },
   "outputs": [],
   "source": [
    "parsed_codes = [\"\".join(re.findall(r\"\\d+\", code)).strip() for code in codes]"
   ]
  },
  {
   "cell_type": "code",
   "execution_count": 5,
   "id": "450a67bc-f2e7-4ccf-906b-04deaf8e33dd",
   "metadata": {
    "execution": {
     "iopub.execute_input": "2023-12-02T08:58:14.506468Z",
     "iopub.status.busy": "2023-12-02T08:58:14.505906Z",
     "iopub.status.idle": "2023-12-02T08:58:14.515102Z",
     "shell.execute_reply": "2023-12-02T08:58:14.513089Z",
     "shell.execute_reply.started": "2023-12-02T08:58:14.506419Z"
    },
    "tags": []
   },
   "outputs": [],
   "source": [
    "int_codes = [int(\"\".join([c[0], c[-1]])) for c in parsed_codes]"
   ]
  },
  {
   "cell_type": "code",
   "execution_count": 6,
   "id": "33eb6771-3fc2-4771-9970-f0a76524e662",
   "metadata": {
    "execution": {
     "iopub.execute_input": "2023-12-02T08:58:14.960404Z",
     "iopub.status.busy": "2023-12-02T08:58:14.959882Z",
     "iopub.status.idle": "2023-12-02T08:58:14.967831Z",
     "shell.execute_reply": "2023-12-02T08:58:14.966061Z",
     "shell.execute_reply.started": "2023-12-02T08:58:14.960358Z"
    },
    "tags": []
   },
   "outputs": [],
   "source": [
    "assert sum(int_codes) == 56042"
   ]
  },
  {
   "cell_type": "code",
   "execution_count": null,
   "id": "037e38a6-f937-4742-b9f2-3837a8733400",
   "metadata": {},
   "outputs": [],
   "source": []
  }
 ],
 "metadata": {
  "kernelspec": {
   "display_name": "Python 3 (ipykernel)",
   "language": "python",
   "name": "python3"
  },
  "language_info": {
   "codemirror_mode": {
    "name": "ipython",
    "version": 3
   },
   "file_extension": ".py",
   "mimetype": "text/x-python",
   "name": "python",
   "nbconvert_exporter": "python",
   "pygments_lexer": "ipython3",
   "version": "3.8.10"
  }
 },
 "nbformat": 4,
 "nbformat_minor": 5
}
